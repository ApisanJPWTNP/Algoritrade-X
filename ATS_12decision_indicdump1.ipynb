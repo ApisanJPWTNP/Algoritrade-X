{
 "cells": [
  {
   "cell_type": "code",
   "execution_count": 1,
   "id": "2e00e795-ed6b-428d-96fb-4b892095aee3",
   "metadata": {},
   "outputs": [],
   "source": [
    "import numpy as np\n",
    "import pandas as pd\n",
    "data = pd.read_csv(\"BANPUsecond1522.csv\")\n",
    "dt=data\n",
    "data.drop(data.columns[[0]],axis=1,inplace=True)\n",
    "window_size = int(len(data)/(8))\n",
    "splittrain = []\n",
    "splittest = [] \n",
    "for i in range(0, len(data)-4*window_size,window_size):\n",
    "    splittrain.append(data[i:i+3*window_size])\n",
    "    splittest.append(data[i+3*window_size:i+5*window_size])"
   ]
  },
  {
   "cell_type": "code",
   "execution_count": 2,
   "id": "9a971f59-88d4-4b81-9387-7e4032579360",
   "metadata": {},
   "outputs": [],
   "source": [
    "from scipy.optimize import NonlinearConstraint, Bounds, LinearConstraint\n",
    "import sympy as sp\n",
    "w1=sp.symbols('w1')\n",
    "w2=sp.symbols('w2')\n",
    "w3=sp.symbols('w3')\n",
    "w4=sp.symbols('w4')\n",
    "w5=sp.symbols('w5')\n",
    "w6=sp.symbols('w6')\n",
    "w7=sp.symbols('w7')\n",
    "w8=sp.symbols('w8')\n",
    "w9=sp.symbols('w9')\n",
    "w10=sp.symbols('w10')\n",
    "tdbuy=sp.symbols('tdbuy')\n",
    "tdsell=sp.symbols('tdsell')"
   ]
  },
  {
   "cell_type": "code",
   "execution_count": 3,
   "id": "ebf1cd6f-426b-4d62-bd19-21c485153fb1",
   "metadata": {},
   "outputs": [],
   "source": [
    "def const(p):\n",
    "    w1,w2,w3,w4,w5,w6,w7,w8,w9,w10,tdbuy,tdsell = p\n",
    "    return w1+w2+w3+w4+w5+w6+w7+w8+w9+w10\n",
    "nlc = NonlinearConstraint(const, 1 ,1)\n",
    "import numpy as np\n",
    "from scipy.optimize import differential_evolution\n",
    "from scipy.optimize import NonlinearConstraint, Bounds\n",
    "\n",
    "bounds = [[0, 1], [0, 1],[0, 1], [0, 1],[0, 1],[0, 1],[0, 1], [0, 1],[0, 1],[0,1],[0.2,1],[0.2,1]]"
   ]
  },
  {
   "cell_type": "code",
   "execution_count": 4,
   "id": "0f9283c9-6be3-4b7b-a609-fd286cd75caa",
   "metadata": {},
   "outputs": [],
   "source": [
    "coll,buy_idx,sell_idx=[],[],[]\n",
    "count1,count2,count3=0,0,0\n",
    "def func(p):\n",
    "    global S,B,resl,resfl\n",
    "    S=0\n",
    "    B=0\n",
    "    resl=[]\n",
    "    resfl=[]\n",
    "    w1,w2,w3,w4,w5,w6,w7,w8,w9,w10,tdbuy,tdsell = p\n",
    "    mon=100000\n",
    "    amount=0\n",
    "    for i in range(0,len(dfo)):\n",
    "        r = ((w1*sl1[i]+w2*sl2[i]+w3*sl3[i]+w4*sl4[i]+w5*sl5[i]+w6*sl6[i]+w7*sl7[i]+w8*sl8[i]+w9*sl9[i]+w10*sl10[i])/(w1+w2+w3+w4+w5+w6+w7+w8+w9+w10))#w1=sp.symbols('w1')\n",
    "        '''if i!=0:\n",
    "            if dfo['adj_close_price'][i]<dfo['adj_close_price'][i-1]*0.8:\n",
    "                mon+=amount*dfo['adj_close_price'][i]*0.998\n",
    "                amount=0'''\n",
    "        if r>tdbuy:\n",
    "            sumall=mon//dfo['adj_close_price'][i]\n",
    "            amount+=sumall\n",
    "            mon-=sumall*dfo['adj_close_price'][i]*1.002\n",
    "            B+=1\n",
    "        elif r<-tdsell:\n",
    "            mon+=amount*dfo['adj_close_price'][i]*0.998\n",
    "            amount=0\n",
    "            S+=1\n",
    "        else:\n",
    "            pass\n",
    "    ret=mon+amount*dfo['adj_close_price'][len(dfo)-1]\n",
    "    return -((ret-100000)/1000)\n",
    "def fobj():\n",
    "    global sl1,sl2,sl3,sl4,sl5,sl6,sl7,sl8,sl9,sl10,dfo,decision_d_l,bh_test_l,bh_train_l,train_l,test_l\n",
    "    bh_test_l,bh_train_l,train_l,test_l,tdbuy_l,tdsell_l,buy_l,sell_l=[],[],[],[],[],[],[],[]\n",
    "    global count1,count2,count3,sell_idx,buy_idx\n",
    "    count1,count2,count3=0,0,0\n",
    "    for j in range(len(splittrain)):\n",
    "        dfo=splittrain[j]\n",
    "        dfo=dfo.reset_index()\n",
    "        sl1=dfo['volume_prof_signal']\n",
    "        sl2=dfo['macd_crossover_signal']\n",
    "        sl3=dfo['psar_adx_signal']\n",
    "        sl4=dfo['renko_adx_signal']\n",
    "        sl5=dfo['aroon_kp_signal']\n",
    "        sl6=dfo['macd_overzero_signal']\n",
    "        sl7=dfo['ma5_10_signal']\n",
    "        sl8=dfo['cdc_signal']\n",
    "        sl9=dfo['bb_rsi_signal']\n",
    "        sl10=dfo['rsi_adx_signal']\n",
    "        result = differential_evolution(func, bounds,constraints=(nlc),maxiter=2500,popsize=90,recombination=0.8) \n",
    "        coll.append([result.x,-result.fun,j])\n",
    "        print([result.x,-result.fun,j])\n",
    "        train_l.append(-result.fun)\n",
    "        a=result.x\n",
    "        b=j\n",
    "        tdbuy=a[10]\n",
    "        tdsell=a[11]\n",
    "        w=a[0:10]\n",
    "        df=splittest[b]\n",
    "        decision_d_l=[]\n",
    "        il=[]\n",
    "        \n",
    "        mon=100000\n",
    "        amount=0\n",
    "        sumall=0\n",
    "        df=df.reset_index()\n",
    "        sl1=df['volume_prof_signal']\n",
    "        sl2=df['macd_crossover_signal']\n",
    "        sl3=df['psar_adx_signal']\n",
    "        sl4=df['renko_adx_signal']\n",
    "        sl5=df['aroon_kp_signal']\n",
    "        sl6=df['macd_overzero_signal']\n",
    "        sl7=df['ma5_10_signal']\n",
    "        sl8=df['cdc_signal']\n",
    "        sl9=df['bb_rsi_signal']\n",
    "        sl10=df['rsi_adx_signal']\n",
    "\n",
    "        for i in range(0,len(df)):\n",
    "            decision_d= ((w[0]*sl1[i]+w[1]*sl2[i]+w[2]*sl3[i]+w[3]*sl4[i]+w[4]*sl5[i]+w[5]*sl6[i]+w[6]*sl7[i]+w[7]*sl8[i]+w[8]*sl9[i]+w[9]*sl10[i])/sum(w))\n",
    "            '''if i!=0:\n",
    "                if df['adj_close_price'][i]<df['adj_close_price'][i-1]*0.8:\n",
    "                        mon+=amount*df['adj_close_price'][i]*0.998\n",
    "                        amount=0\n",
    "                        sell_idx.append(i)'''\n",
    "            if decision_d>tdbuy:\n",
    "                sumall=mon//df['adj_close_price'][i]\n",
    "                amount+=sumall\n",
    "                mon-=sumall*df['adj_close_price'][i]*1.002\n",
    "                count1+=1\n",
    "                buy_idx.append(i)\n",
    "            elif decision_d<-tdsell:\n",
    "                mon+=amount*df['adj_close_price'][i]*0.998\n",
    "                amount=0\n",
    "                count2+=1\n",
    "                sell_idx.append(i)\n",
    "            else:\n",
    "                count3+=1\n",
    "            decision_d_l.append(decision_d)\n",
    "        il.append(i)\n",
    "        ret=mon+amount*df['adj_close_price'][len(df)-1]\n",
    "        stocknum=100000/dfo['adj_close_price'][0]\n",
    "        bh_test_l.append(((stocknum*(0.998*df['adj_close_price'][len(df)-1])+(100000-stocknum*df['adj_close_price'][0]*1.002))-100000)/1000)\n",
    "        bh_train_l.append(((stocknum*(0.998*dfo['adj_close_price'][len(dfo)-1])+(100000-stocknum*dfo['adj_close_price'][0]*1.002))-100000)/1000)\n",
    "        test_l.append((ret-100000)/1000)\n",
    "        tdbuy_l.append(tdbuy)\n",
    "        tdsell_l.append(tdsell)\n",
    "        buy_l.append(count1)\n",
    "        sell_l.append(count2)\n",
    "        print(\"B&H_train :\",bh_train_l)\n",
    "        print(\"ATS_train buy:{b} sell:{s} return:{r}\".format(b = B,s = S,r=train_l))\n",
    "        print(\"B&H_test :\",bh_test_l)\n",
    "        print(\"tdbuy:{b} tdsell:{s}\".format(b=tdbuy_l,s=tdsell_l))\n",
    "        print(\"buy:{b} sell:{s}\".format(b=buy_l,s=sell_l))\n",
    "        print(\"ATS_test return:{r}\".format(r=test_l))"
   ]
  },
  {
   "cell_type": "code",
   "execution_count": 5,
   "id": "b6a9cb6e-c0e0-4472-ba57-0817e2ee9eb3",
   "metadata": {},
   "outputs": [
    {
     "name": "stderr",
     "output_type": "stream",
     "text": [
      "C:\\Users\\admin\\anaconda3\\lib\\site-packages\\scipy\\optimize\\_hessian_update_strategy.py:182: UserWarning: delta_grad == 0.0. Check if the approximated function is linear. If the function is linear better results can be obtained by defining the Hessian as zero instead of using quasi-Newton approximations.\n",
      "  warn('delta_grad == 0.0. Check if the approximated '\n"
     ]
    },
    {
     "name": "stdout",
     "output_type": "stream",
     "text": [
      "[array([0.13391246, 0.05903299, 0.04382747, 0.05449629, 0.08783919,\n",
      "       0.07169942, 0.19753022, 0.03811175, 0.0681533 , 0.24539691,\n",
      "       0.33214216, 0.35211505]), 75.92635206769368, 0]\n",
      "B&H_train : [17.18131154060777]\n",
      "ATS_train buy:4 sell:0 return:[75.92635206769368]\n",
      "B&H_test : [-40.661091860154194]\n",
      "tdbuy:[0.3321421587504799] tdsell:[0.35211505107695007]\n",
      "buy:[1] sell:[3]\n",
      "ATS_test return:[-24.767289218383798]\n"
     ]
    },
    {
     "name": "stderr",
     "output_type": "stream",
     "text": [
      "C:\\Users\\admin\\anaconda3\\lib\\site-packages\\scipy\\optimize\\_hessian_update_strategy.py:182: UserWarning: delta_grad == 0.0. Check if the approximated function is linear. If the function is linear better results can be obtained by defining the Hessian as zero instead of using quasi-Newton approximations.\n",
      "  warn('delta_grad == 0.0. Check if the approximated '\n"
     ]
    },
    {
     "name": "stdout",
     "output_type": "stream",
     "text": [
      "[array([0.02485075, 0.12943515, 0.53428611, 0.00234388, 0.00569496,\n",
      "       0.03301168, 0.06544987, 0.07113109, 0.03787732, 0.0959192 ,\n",
      "       0.20846648, 0.49457024]), 81.32849548795603, 1]\n",
      "B&H_train : [17.18131154060777, 41.056105265661344]\n",
      "ATS_train buy:7 sell:3 return:[75.92635206769368, 81.32849548795603]\n",
      "B&H_test : [-40.661091860154194, -25.6456310450974]\n",
      "tdbuy:[0.3321421587504799, 0.20846647522372658] tdsell:[0.35211505107695007, 0.49457023674258593]\n",
      "buy:[1, 6] sell:[3, 4]\n",
      "ATS_test return:[-24.767289218383798, -13.974212401219367]\n"
     ]
    },
    {
     "name": "stderr",
     "output_type": "stream",
     "text": [
      "C:\\Users\\admin\\anaconda3\\lib\\site-packages\\scipy\\optimize\\_hessian_update_strategy.py:182: UserWarning: delta_grad == 0.0. Check if the approximated function is linear. If the function is linear better results can be obtained by defining the Hessian as zero instead of using quasi-Newton approximations.\n",
      "  warn('delta_grad == 0.0. Check if the approximated '\n"
     ]
    },
    {
     "name": "stdout",
     "output_type": "stream",
     "text": [
      "[array([0.13235524, 0.06637077, 0.06321142, 0.45699961, 0.06507805,\n",
      "       0.14140488, 0.00646891, 0.01772536, 0.00103592, 0.04934984,\n",
      "       0.3239336 , 0.20890192]), 26.73337270087436, 2]\n",
      "B&H_train : [17.18131154060777, 41.056105265661344, -30.972715992480094]\n",
      "ATS_train buy:5 sell:11 return:[75.92635206769368, 81.32849548795603, 26.73337270087436]\n",
      "B&H_test : [-40.661091860154194, -25.6456310450974, 1.5710161241863534]\n",
      "tdbuy:[0.3321421587504799, 0.20846647522372658, 0.32393360312765185] tdsell:[0.35211505107695007, 0.49457023674258593, 0.20890192200760627]\n",
      "buy:[1, 6, 43] sell:[3, 4, 9]\n",
      "ATS_test return:[-24.767289218383798, -13.974212401219367, 62.88731946919815]\n"
     ]
    },
    {
     "name": "stderr",
     "output_type": "stream",
     "text": [
      "C:\\Users\\admin\\anaconda3\\lib\\site-packages\\scipy\\optimize\\_hessian_update_strategy.py:182: UserWarning: delta_grad == 0.0. Check if the approximated function is linear. If the function is linear better results can be obtained by defining the Hessian as zero instead of using quasi-Newton approximations.\n",
      "  warn('delta_grad == 0.0. Check if the approximated '\n"
     ]
    },
    {
     "name": "stdout",
     "output_type": "stream",
     "text": [
      "[array([0.01279889, 0.0016082 , 0.0373057 , 0.00766501, 0.63354257,\n",
      "       0.00103165, 0.16385472, 0.01679039, 0.1225202 , 0.00288268,\n",
      "       0.81039315, 0.67334857]), 95.40332388961792, 3]\n",
      "B&H_train : [17.18131154060777, 41.056105265661344, -30.972715992480094, -33.47598156397891]\n",
      "ATS_train buy:1 sell:6 return:[75.92635206769368, 81.32849548795603, 26.73337270087436, 95.40332388961792]\n",
      "B&H_test : [-40.661091860154194, -25.6456310450974, 1.5710161241863534, 20.67182314021242]\n",
      "tdbuy:[0.3321421587504799, 0.20846647522372658, 0.32393360312765185, 0.8103931463787812] tdsell:[0.35211505107695007, 0.49457023674258593, 0.20890192200760627, 0.6733485722943408]\n",
      "buy:[1, 6, 43, 44] sell:[3, 4, 9, 14]\n",
      "ATS_test return:[-24.767289218383798, -13.974212401219367, 62.88731946919815, -3.202526753215774]\n"
     ]
    }
   ],
   "source": [
    "fobj() #new"
   ]
  },
  {
   "cell_type": "code",
   "execution_count": 6,
   "id": "7e1a79d7-afdd-4499-8aca-c3d21528d8b8",
   "metadata": {},
   "outputs": [
    {
     "name": "stderr",
     "output_type": "stream",
     "text": [
      "C:\\Users\\admin\\anaconda3\\lib\\site-packages\\scipy\\optimize\\_hessian_update_strategy.py:182: UserWarning: delta_grad == 0.0. Check if the approximated function is linear. If the function is linear better results can be obtained by defining the Hessian as zero instead of using quasi-Newton approximations.\n",
      "  warn('delta_grad == 0.0. Check if the approximated '\n"
     ]
    },
    {
     "name": "stdout",
     "output_type": "stream",
     "text": [
      "[array([0.06492053, 0.01203352, 0.1283422 , 0.02103918, 0.01863431,\n",
      "       0.02216128, 0.20763864, 0.02004935, 0.06674466, 0.43843633,\n",
      "       0.56707804, 0.91183503]), 75.62565359579469, 0]\n",
      "B&H_train : [17.18131154060777]\n",
      "ATS_train buy:1 sell:0 return:[75.62565359579469]\n",
      "B&H_test : [-40.661091860154194]\n",
      "tdbuy:[0.5670780376976856] tdsell:[0.9118350273607939]\n",
      "buy:[0] sell:[0]\n",
      "ATS_test return:[0.0]\n"
     ]
    },
    {
     "name": "stderr",
     "output_type": "stream",
     "text": [
      "C:\\Users\\admin\\anaconda3\\lib\\site-packages\\scipy\\optimize\\_hessian_update_strategy.py:182: UserWarning: delta_grad == 0.0. Check if the approximated function is linear. If the function is linear better results can be obtained by defining the Hessian as zero instead of using quasi-Newton approximations.\n",
      "  warn('delta_grad == 0.0. Check if the approximated '\n"
     ]
    },
    {
     "name": "stdout",
     "output_type": "stream",
     "text": [
      "[array([0.09704207, 0.20345485, 0.00321673, 0.46752077, 0.0867248 ,\n",
      "       0.00118267, 0.0325676 , 0.05227826, 0.05371512, 0.00229714,\n",
      "       0.54949721, 0.38108694]), 83.35156727009202, 1]\n",
      "B&H_train : [17.18131154060777, 41.056105265661344]\n",
      "ATS_train buy:1 sell:1 return:[75.62565359579469, 83.35156727009202]\n",
      "B&H_test : [-40.661091860154194, -25.6456310450974]\n",
      "tdbuy:[0.5670780376976856, 0.5494972105829438] tdsell:[0.9118350273607939, 0.3810869389848082]\n",
      "buy:[0, 6] sell:[0, 0]\n",
      "ATS_test return:[0.0, -23.068069717879304]\n"
     ]
    },
    {
     "name": "stderr",
     "output_type": "stream",
     "text": [
      "C:\\Users\\admin\\anaconda3\\lib\\site-packages\\scipy\\optimize\\_hessian_update_strategy.py:182: UserWarning: delta_grad == 0.0. Check if the approximated function is linear. If the function is linear better results can be obtained by defining the Hessian as zero instead of using quasi-Newton approximations.\n",
      "  warn('delta_grad == 0.0. Check if the approximated '\n"
     ]
    },
    {
     "name": "stdout",
     "output_type": "stream",
     "text": [
      "[array([0.02222158, 0.09172822, 0.00562562, 0.02774939, 0.33100761,\n",
      "       0.00772319, 0.29827233, 0.08038831, 0.09154025, 0.04374348,\n",
      "       0.66777106, 0.5298947 ]), 20.343484214126583, 2]\n",
      "B&H_train : [17.18131154060777, 41.056105265661344, -30.972715992480094]\n",
      "ATS_train buy:1 sell:4 return:[75.62565359579469, 83.35156727009202, 20.343484214126583]\n",
      "B&H_test : [-40.661091860154194, -25.6456310450974, 1.5710161241863534]\n",
      "tdbuy:[0.5670780376976856, 0.5494972105829438, 0.6677710605372245] tdsell:[0.9118350273607939, 0.3810869389848082, 0.5298947048105455]\n",
      "buy:[0, 6, 8] sell:[0, 0, 5]\n",
      "ATS_test return:[0.0, -23.068069717879304, 70.09206462767601]\n"
     ]
    },
    {
     "name": "stderr",
     "output_type": "stream",
     "text": [
      "C:\\Users\\admin\\anaconda3\\lib\\site-packages\\scipy\\optimize\\_hessian_update_strategy.py:182: UserWarning: delta_grad == 0.0. Check if the approximated function is linear. If the function is linear better results can be obtained by defining the Hessian as zero instead of using quasi-Newton approximations.\n",
      "  warn('delta_grad == 0.0. Check if the approximated '\n"
     ]
    },
    {
     "name": "stdout",
     "output_type": "stream",
     "text": [
      "[array([0.14091207, 0.01741437, 0.00111265, 0.29238811, 0.08215274,\n",
      "       0.04511261, 0.10064954, 0.28578729, 0.02982753, 0.00464308,\n",
      "       0.55031114, 0.76136893]), 95.40332388961792, 3]\n",
      "B&H_train : [17.18131154060777, 41.056105265661344, -30.972715992480094, -33.47598156397891]\n",
      "ATS_train buy:1 sell:0 return:[75.62565359579469, 83.35156727009202, 20.343484214126583, 95.40332388961792]\n",
      "B&H_test : [-40.661091860154194, -25.6456310450974, 1.5710161241863534, 20.67182314021242]\n",
      "tdbuy:[0.5670780376976856, 0.5494972105829438, 0.6677710605372245, 0.5503111420016852] tdsell:[0.9118350273607939, 0.3810869389848082, 0.5298947048105455, 0.761368927943244]\n",
      "buy:[0, 6, 8, 8] sell:[0, 0, 5, 5]\n",
      "ATS_test return:[0.0, -23.068069717879304, 70.09206462767601, 0.0]\n"
     ]
    }
   ],
   "source": [
    "fobj()"
   ]
  },
  {
   "cell_type": "code",
   "execution_count": 7,
   "id": "10d73a6e-14fe-4cf1-8ff9-11b2b152692d",
   "metadata": {},
   "outputs": [
    {
     "name": "stderr",
     "output_type": "stream",
     "text": [
      "C:\\Users\\admin\\anaconda3\\lib\\site-packages\\scipy\\optimize\\_hessian_update_strategy.py:182: UserWarning: delta_grad == 0.0. Check if the approximated function is linear. If the function is linear better results can be obtained by defining the Hessian as zero instead of using quasi-Newton approximations.\n",
      "  warn('delta_grad == 0.0. Check if the approximated '\n"
     ]
    },
    {
     "name": "stdout",
     "output_type": "stream",
     "text": [
      "[array([0.1254872 , 0.03322859, 0.35990581, 0.02037037, 0.00215533,\n",
      "       0.36387822, 0.00513015, 0.03655582, 0.05241047, 0.00087804,\n",
      "       0.47993523, 0.53802396]), 57.63259648988343, 0]\n",
      "B&H_train : [17.18131154060777]\n",
      "ATS_train buy:1 sell:1 return:[57.63259648988343]\n",
      "B&H_test : [-40.661091860154194]\n",
      "tdbuy:[0.4799352295007462] tdsell:[0.5380239617198983]\n",
      "buy:[2] sell:[0]\n",
      "ATS_test return:[-44.084942227197644]\n"
     ]
    },
    {
     "name": "stderr",
     "output_type": "stream",
     "text": [
      "C:\\Users\\admin\\anaconda3\\lib\\site-packages\\scipy\\optimize\\_hessian_update_strategy.py:182: UserWarning: delta_grad == 0.0. Check if the approximated function is linear. If the function is linear better results can be obtained by defining the Hessian as zero instead of using quasi-Newton approximations.\n",
      "  warn('delta_grad == 0.0. Check if the approximated '\n"
     ]
    },
    {
     "name": "stdout",
     "output_type": "stream",
     "text": [
      "[array([0.12104561, 0.06856199, 0.0304713 , 0.13159266, 0.05353278,\n",
      "       0.00338624, 0.13979882, 0.0333651 , 0.00888875, 0.40935674,\n",
      "       0.51132224, 0.32705131]), 97.6555614403648, 1]\n",
      "B&H_train : [17.18131154060777, 41.056105265661344]\n",
      "ATS_train buy:1 sell:2 return:[57.63259648988343, 97.6555614403648]\n",
      "B&H_test : [-40.661091860154194, -25.6456310450974]\n",
      "tdbuy:[0.4799352295007462, 0.5113222370725257] tdsell:[0.5380239617198983, 0.32705131277290633]\n",
      "buy:[2, 9] sell:[0, 2]\n",
      "ATS_test return:[-44.084942227197644, 32.787310656850806]\n"
     ]
    },
    {
     "name": "stderr",
     "output_type": "stream",
     "text": [
      "C:\\Users\\admin\\anaconda3\\lib\\site-packages\\scipy\\optimize\\_hessian_update_strategy.py:182: UserWarning: delta_grad == 0.0. Check if the approximated function is linear. If the function is linear better results can be obtained by defining the Hessian as zero instead of using quasi-Newton approximations.\n",
      "  warn('delta_grad == 0.0. Check if the approximated '\n"
     ]
    },
    {
     "name": "stdout",
     "output_type": "stream",
     "text": [
      "[array([2.34212839e-02, 1.34542285e-02, 1.37010845e-02, 4.16475762e-01,\n",
      "       2.64539587e-01, 4.93543943e-02, 8.88607474e-02, 8.58895641e-02,\n",
      "       4.38494850e-02, 4.53863736e-04, 4.65163520e-01, 3.40974094e-01]), 22.032230787734996, 2]\n",
      "B&H_train : [17.18131154060777, 41.056105265661344, -30.972715992480094]\n",
      "ATS_train buy:1 sell:7 return:[57.63259648988343, 97.6555614403648, 22.032230787734996]\n",
      "B&H_test : [-40.661091860154194, -25.6456310450974, 1.5710161241863534]\n",
      "tdbuy:[0.4799352295007462, 0.5113222370725257, 0.4651635204301195] tdsell:[0.5380239617198983, 0.32705131277290633, 0.3409740938549803]\n",
      "buy:[2, 9, 34] sell:[0, 2, 6]\n",
      "ATS_test return:[-44.084942227197644, 32.787310656850806, 93.00331868726347]\n"
     ]
    },
    {
     "name": "stderr",
     "output_type": "stream",
     "text": [
      "C:\\Users\\admin\\anaconda3\\lib\\site-packages\\scipy\\optimize\\_hessian_update_strategy.py:182: UserWarning: delta_grad == 0.0. Check if the approximated function is linear. If the function is linear better results can be obtained by defining the Hessian as zero instead of using quasi-Newton approximations.\n",
      "  warn('delta_grad == 0.0. Check if the approximated '\n"
     ]
    },
    {
     "name": "stdout",
     "output_type": "stream",
     "text": [
      "[array([0.02418975, 0.02884164, 0.50277518, 0.01871348, 0.00348018,\n",
      "       0.12466487, 0.02568917, 0.0159812 , 0.20439499, 0.05126954,\n",
      "       0.40601302, 0.24337551]), 36.967717190017694, 3]\n",
      "B&H_train : [17.18131154060777, 41.056105265661344, -30.972715992480094, -33.47598156397891]\n",
      "ATS_train buy:4 sell:6 return:[57.63259648988343, 97.6555614403648, 22.032230787734996, 36.967717190017694]\n",
      "B&H_test : [-40.661091860154194, -25.6456310450974, 1.5710161241863534, 20.67182314021242]\n",
      "tdbuy:[0.4799352295007462, 0.5113222370725257, 0.4651635204301195, 0.40601301888081687] tdsell:[0.5380239617198983, 0.32705131277290633, 0.3409740938549803, 0.24337550758308457]\n",
      "buy:[2, 9, 34, 35] sell:[0, 2, 6, 11]\n",
      "ATS_test return:[-44.084942227197644, 32.787310656850806, 93.00331868726347, -17.2388997756958]\n"
     ]
    }
   ],
   "source": [
    "fobj()"
   ]
  },
  {
   "cell_type": "code",
   "execution_count": null,
   "id": "09ffc379-f474-44cd-9d54-128fb1379aae",
   "metadata": {},
   "outputs": [],
   "source": [
    "fobj()#new2"
   ]
  },
  {
   "cell_type": "code",
   "execution_count": null,
   "id": "fd5e870c-3877-4d44-a301-6ac6b9fc85b3",
   "metadata": {},
   "outputs": [],
   "source": [
    "fobj()"
   ]
  },
  {
   "cell_type": "code",
   "execution_count": 27,
   "id": "49519c92-4e67-479e-b690-9e4a26af2c2e",
   "metadata": {},
   "outputs": [],
   "source": [
    "# coll=[[[0.08492177, 0.17384463, 0.01297783, 0.02911209, 0.00305128,\n",
    "#        0.29679029, 0.09341777, 0.03109278, 0.2669813 , 0.00781026,\n",
    "#        0.15002345], 77.78606595899961, 0],[[0.10124751, 0.07947271, 0.14059461, 0.01134871, 0.07670483,\n",
    "#        0.0105102 , 0.01523628, 0.0793311 , 0.32688289, 0.15867116,\n",
    "#        0.16469997], 29.423729452217085, 1],[[0.10424396, 0.04083642, 0.14153184, 0.04832486, 0.02425143,\n",
    "#        0.23456657, 0.01785653, 0.04702162, 0.1687655 , 0.17260126,\n",
    "#        0.23068131], 20.744831571363452, 2],[[0.03418246, 0.03985494, 0.05818124, 0.01006821, 0.05736128,\n",
    "#        0.51578311, 0.04809931, 0.05745843, 0.05766466, 0.12134635,\n",
    "#        0.13210764], 17.658730539011014, 3],[[0.04441311, 0.00105711, 0.10547514, 0.24048136, 0.00218894,\n",
    "#        0.03192681, 0.0093497 , 0.09019205, 0.3072222 , 0.16769358,\n",
    "#        0.2397252 ], 38.12829733082201, 4],[[0.15608604, 0.46143613, 0.02077728, 0.15747731, 0.00652082,\n",
    "#        0.03187775, 0.00144456, 0.02996531, 0.12415056, 0.01026426,\n",
    "#        0.05789345], 34.24385590455824, 5],[[0.03761342, 0.34845239, 0.11776582, 0.00239228, 0.03168897,\n",
    "#        0.02931779, 0.15102881, 0.08606771, 0.11747511, 0.07819771,\n",
    "#        0.18479926], 27.365418176465987, 6],[[0.03660642, 0.05033639, 0.12932883, 0.07908549, 0.01884995,\n",
    "#        0.00878074, 0.15192304, 0.25559357, 0.00167098, 0.2678246 ,\n",
    "#        0.22253394], 48.53843252603145, 7],[[0.00772096, 0.47030788, 0.07248883, 0.04361143, 0.25529928,\n",
    "#        0.04781215, 0.00984386, 0.00458237, 0.02302817, 0.06530506,\n",
    "#        0.11147168], 92.85205689248085, 8],[[0.02404885, 0.11613386, 0.04691288, 0.15394344, 0.01931855,\n",
    "#        0.0351663 , 0.15083233, 0.02116866, 0.27700484, 0.15547028,\n",
    "#        0.28969039], 78.26595460097695, 9]]"
   ]
  },
  {
   "cell_type": "code",
   "execution_count": null,
   "id": "2ea5c008-f451-4d6c-9747-70c28cc03918",
   "metadata": {},
   "outputs": [],
   "source": []
  },
  {
   "cell_type": "code",
   "execution_count": null,
   "id": "f4560469-ce5f-4ff0-a5ad-ae9db6d4bb99",
   "metadata": {},
   "outputs": [],
   "source": []
  },
  {
   "cell_type": "code",
   "execution_count": 146,
   "id": "2a2a189b-b0fe-4da2-9959-554286af0a74",
   "metadata": {},
   "outputs": [
    {
     "data": {
      "text/plain": [
       "8.7122626862755"
      ]
     },
     "execution_count": 146,
     "metadata": {},
     "output_type": "execute_result"
    }
   ],
   "source": [
    "#test\n",
    "import pandas as pd\n",
    "sums=0\n",
    "listna=[]\n",
    "for j in range(0,11): #เเต่ละ signal \n",
    "    for i in range(0,10): #เเต่ละ data\n",
    "        sums+=coll[i][0][j]\n",
    "    sums=sums/10\n",
    "    listna.append(sums)\n",
    "tdna=listna[10]\n",
    "w=listna[0:10]\n",
    "dfo=pd.read_csv('TSLA_1417_year_testing_signal.csv')\n",
    "count1,count2,count3=0,0,0\n",
    "decision_d_l=[]\n",
    "il=[]\n",
    "sell_idx,buy_idx=[],[]\n",
    "def testing(td,w,df):\n",
    "    global count1,count2,count3,sell_idx,buy_idx,sl1\n",
    "    mon=100000\n",
    "    amount=0\n",
    "    sumall=0\n",
    "    sl1=dfo['sma89_signal']\n",
    "    sl2=dfo['obv_macd_signal']\n",
    "    sl3=dfo['cdc_signal']\n",
    "    sl4=dfo['rsi_signal']\n",
    "    sl5=dfo['renko_signal']\n",
    "    sl6=dfo['sar_signal']\n",
    "    sl7=dfo['macd_signal']\n",
    "    sl8=dfo['stoch_signal']\n",
    "    sl9=dfo['obv_renko_signal']\n",
    "    sl10=dfo['aroon_signal']\n",
    "    \n",
    "    for i in range(0,len(df)):\n",
    "        decision_d= ((w[0]*sl1[i]+w[1]*sl2[i]+w[2]*sl3[i]+w[3]*sl4[i]+w[4]*sl5[i]+w[5]*sl6[i]+w[6]*sl7[i]+w[7]*sl8[i]+w[8]*sl9[i]+w[9]*sl10[i])/sum(w))\n",
    "        if i!=0:\n",
    "            if df['adj_close_price'][i]<df['adj_close_price'][i-1]*0.8:\n",
    "                    mon+=amount*dfo['Close'][i]*0.998\n",
    "                    amount=0\n",
    "                    sell_idx.append(i)\n",
    "        if decision_d>td:\n",
    "            sumall=mon//df['adj_close_price'][i]\n",
    "            amount+=sumall\n",
    "            mon-=sumall*df['adj_close_price'][i]*1.002\n",
    "            count1+=1\n",
    "            buy_idx.append(i)\n",
    "        elif decision_d<-td:\n",
    "            mon+=amount*df['adj_close_price'][i]*0.998\n",
    "            amount=0\n",
    "            count2+=1\n",
    "            sell_idx.append(i)\n",
    "        else:\n",
    "            count3+=1\n",
    "        decision_d_l.append(mon+amount*df['adj_close_price'][i])\n",
    "        il.append(i)\n",
    "    ret=mon+amount*df['adj_close_price'][len(df)-1]\n",
    "    return (ret-100000)/1000\n",
    "testing(tdna,w,dfo)"
   ]
  },
  {
   "cell_type": "code",
   "execution_count": 147,
   "id": "4cf6d793-c596-48c6-8f0e-302e397d5ac2",
   "metadata": {},
   "outputs": [
    {
     "data": {
      "text/plain": [
       "107.4283664979756"
      ]
     },
     "execution_count": 147,
     "metadata": {},
     "output_type": "execute_result"
    }
   ],
   "source": [
    "(dfo['adj_close_price'][len(dfo)-1]-dfo['adj_close_price'][0])/dfo['adj_close_price'][0]*100"
   ]
  },
  {
   "cell_type": "code",
   "execution_count": 150,
   "id": "ba5b7298-b37a-4c12-a1fd-271495f646f5",
   "metadata": {},
   "outputs": [
    {
     "data": {
      "text/plain": [
       "-3.8563480945091433"
      ]
     },
     "execution_count": 150,
     "metadata": {},
     "output_type": "execute_result"
    }
   ],
   "source": [
    "#test\n",
    "import pandas as pd\n",
    "sums=0\n",
    "listna=[]\n",
    "for j in range(0,11): #เเต่ละ signal \n",
    "    for i in range(0,10): #เเต่ละ data\n",
    "        sums+=coll[i][0][j]\n",
    "    sums=sums/10\n",
    "    listna.append(sums)\n",
    "tdna=listna[10]\n",
    "w=listna[0:10]\n",
    "dfo=pd.read_csv('TSLA_18_year_testing_signal.csv')\n",
    "count1,count2,count3=0,0,0\n",
    "decision_d_l=[]\n",
    "il=[]\n",
    "sell_idx,buy_idx=[],[]\n",
    "def testing(td,w,df):\n",
    "    global count1,count2,count3,sell_idx,buy_idx,sl1\n",
    "    mon=100000\n",
    "    amount=0\n",
    "    sumall=0\n",
    "    sl1=dfo['sma89_signal']\n",
    "    sl2=dfo['obv_macd_signal']\n",
    "    sl3=dfo['cdc_signal']\n",
    "    sl4=dfo['rsi_signal']\n",
    "    sl5=dfo['renko_signal']\n",
    "    sl6=dfo['sar_signal']\n",
    "    sl7=dfo['macd_signal']\n",
    "    sl8=dfo['stoch_signal']\n",
    "    sl9=dfo['obv_renko_signal']\n",
    "    sl10=dfo['aroon_signal']\n",
    "    \n",
    "    for i in range(0,len(df)):\n",
    "        decision_d= ((w[0]*sl1[i]+w[1]*sl2[i]+w[2]*sl3[i]+w[3]*sl4[i]+w[4]*sl5[i]+w[5]*sl6[i]+w[6]*sl7[i]+w[7]*sl8[i]+w[8]*sl9[i]+w[9]*sl10[i])/sum(w))\n",
    "        if i!=0:\n",
    "            if df['adj_close_price'][i]<df['adj_close_price'][i-1]*0.8:\n",
    "                    mon+=amount*dfo['Close'][i]*0.998\n",
    "                    amount=0\n",
    "                    sell_idx.append(i)\n",
    "        if decision_d>td:\n",
    "            sumall=mon//df['adj_close_price'][i]\n",
    "            amount+=sumall\n",
    "            mon-=sumall*df['adj_close_price'][i]*1.002\n",
    "            count1+=1\n",
    "            buy_idx.append(i)\n",
    "        elif decision_d<-td:\n",
    "            mon+=amount*df['adj_close_price'][i]*0.998\n",
    "            amount=0\n",
    "            count2+=1\n",
    "            sell_idx.append(i)\n",
    "        else:\n",
    "            count3+=1\n",
    "        decision_d_l.append(mon+amount*df['adj_close_price'][i])\n",
    "        il.append(i)\n",
    "    ret=mon+amount*df['adj_close_price'][len(df)-1]\n",
    "    return (ret-100000)/1000\n",
    "testing(tdna,w,dfo)"
   ]
  },
  {
   "cell_type": "code",
   "execution_count": 149,
   "id": "c2f90ae8-fff7-4842-911a-9322d1bb56e6",
   "metadata": {},
   "outputs": [
    {
     "data": {
      "text/plain": [
       "4.161849649068813"
      ]
     },
     "execution_count": 149,
     "metadata": {},
     "output_type": "execute_result"
    }
   ],
   "source": [
    "(dfo['adj_close_price'][len(dfo)-1]-dfo['adj_close_price'][0])/dfo['adj_close_price'][0]*100"
   ]
  },
  {
   "cell_type": "code",
   "execution_count": 151,
   "id": "02c01e65-f0c8-4c17-a70c-af71b383b6b5",
   "metadata": {},
   "outputs": [
    {
     "data": {
      "text/plain": [
       "[0.05171901078056007,\n",
       " 0.09168125927799935,\n",
       " 0.0635959532800144,\n",
       " 0.19770249244774873,\n",
       " 0.06882487224742326,\n",
       " 0.12934489843397567,\n",
       " 0.07462249921901046,\n",
       " 0.14327630557640067,\n",
       " 0.14077705830467716,\n",
       " 0.1346100853889713,\n",
       " 0.1493072239607629]"
      ]
     },
     "execution_count": 151,
     "metadata": {},
     "output_type": "execute_result"
    }
   ],
   "source": [
    "listna"
   ]
  },
  {
   "cell_type": "code",
   "execution_count": 63,
   "id": "a9a8127d-2a49-483c-8ce4-00492bc8b3b4",
   "metadata": {},
   "outputs": [
    {
     "data": {
      "text/plain": [
       "[0.03418788291218656,\n",
       " 0.03149076244234548,\n",
       " 0.15037019569028254,\n",
       " 0.1325433769862197,\n",
       " 0.14793535036282862,\n",
       " 0.08853880692902165,\n",
       " 0.09635943910162295,\n",
       " 0.12403901528853958,\n",
       " 0.12794771591086848,\n",
       " 0.15992870893847594,\n",
       " 0.19253667530824434]"
      ]
     },
     "execution_count": 63,
     "metadata": {},
     "output_type": "execute_result"
    }
   ],
   "source": [
    "listna"
   ]
  },
  {
   "cell_type": "code",
   "execution_count": null,
   "id": "b26db68f-19b9-41bb-9200-4b03b2e37b07",
   "metadata": {},
   "outputs": [],
   "source": [
    "#BH 16 107.4283664979756\n",
    "#back 16 110.85032925866324\n",
    "#BH 4.161849649068813\n",
    "#Forward 0"
   ]
  },
  {
   "cell_type": "code",
   "execution_count": 16,
   "id": "ede9f3fd-15e9-4a3f-ad47-22f5f4056789",
   "metadata": {},
   "outputs": [],
   "source": [
    "listna=[0.07209369806093725,\n",
    " 0.07185038480865677,\n",
    " 0.07605418723127022,\n",
    " 0.046688922200022735,\n",
    " 0.05800967858322942,\n",
    " 0.20641780081608485,\n",
    " 0.13221615163816813,\n",
    " 0.17658586648082206,\n",
    " 0.13257461186240724,\n",
    " 0.12475782848656121,\n",
    " 0.23315362570785392]"
   ]
  },
  {
   "cell_type": "code",
   "execution_count": null,
   "id": "865be1c6-46e6-467b-9398-e84930423f0c",
   "metadata": {},
   "outputs": [],
   "source": []
  },
  {
   "cell_type": "code",
   "execution_count": 170,
   "id": "6f4cce53-58a8-468e-b87b-b0f61c762b19",
   "metadata": {},
   "outputs": [
    {
     "ename": "NameError",
     "evalue": "name 'b' is not defined",
     "output_type": "error",
     "traceback": [
      "\u001b[1;31m---------------------------------------------------------------------------\u001b[0m",
      "\u001b[1;31mNameError\u001b[0m                                 Traceback (most recent call last)",
      "Input \u001b[1;32mIn [170]\u001b[0m, in \u001b[0;36m<cell line: 57>\u001b[1;34m()\u001b[0m\n\u001b[0;32m     55\u001b[0m il\u001b[38;5;241m.\u001b[39mappend(i)\n\u001b[0;32m     56\u001b[0m ret\u001b[38;5;241m=\u001b[39mmon\u001b[38;5;241m+\u001b[39mamount\u001b[38;5;241m*\u001b[39mdf[\u001b[38;5;124m'\u001b[39m\u001b[38;5;124madj_close_price\u001b[39m\u001b[38;5;124m'\u001b[39m][\u001b[38;5;28mlen\u001b[39m(df)\u001b[38;5;241m-\u001b[39m\u001b[38;5;241m1\u001b[39m]\n\u001b[1;32m---> 57\u001b[0m \u001b[38;5;28mprint\u001b[39m ((\u001b[38;5;124m\"\u001b[39m\u001b[38;5;124mTEST\u001b[39m\u001b[38;5;124m\"\u001b[39m,\u001b[43mb\u001b[49m,ret\u001b[38;5;241m-\u001b[39m\u001b[38;5;241m100000\u001b[39m)\u001b[38;5;241m/\u001b[39m\u001b[38;5;241m1000\u001b[39m)\n",
      "\u001b[1;31mNameError\u001b[0m: name 'b' is not defined"
     ]
    }
   ],
   "source": [
    "a=[0.07209369806093725,\n",
    " 0.07185038480865677,\n",
    " 0.07605418723127022,\n",
    " 0.046688922200022735,\n",
    " 0.05800967858322942,\n",
    " 0.20641780081608485,\n",
    " 0.13221615163816813,\n",
    " 0.17658586648082206,\n",
    " 0.13257461186240724,\n",
    " 0.12475782848656121,\n",
    " 0.23315362570785392]\n",
    "td=a[10]\n",
    "w=a[0:10]\n",
    "df=splittest[0]\n",
    "\n",
    "decision_d_l=[]\n",
    "il=[]\n",
    "global count1,count2,count3,sell_idx,buy_idx,sl1\n",
    "mon=100000\n",
    "amount=0\n",
    "sumall=0\n",
    "df=df.reset_index()\n",
    "sl1=df['sma89_signal']\n",
    "sl2=df['obv_macd_signal']\n",
    "sl3=df['cdc_signal']\n",
    "sl4=df['rsi_signal']\n",
    "sl5=df['renko_signal']\n",
    "sl6=df['sar_signal']\n",
    "sl7=df['macd_signal']\n",
    "sl8=df['stoch_signal']\n",
    "sl9=df['obv_renko_signal']\n",
    "sl10=df['aroon_signal']\n",
    "\n",
    "for i in range(0,len(df)):\n",
    "    decision_d= ((w[0]*sl1[i]+w[1]*sl2[i]+w[2]*sl3[i]+w[3]*sl4[i]+w[4]*sl5[i]+w[5]*sl6[i]+w[6]*sl7[i]+w[7]*sl8[i]+w[8]*sl9[i]+w[9]*sl10[i])/sum(w))\n",
    "    if i!=0:\n",
    "        if df['adj_close_price'][i]<df['adj_close_price'][i-1]*0.8:\n",
    "                mon+=amount*df['Close'][i]*0.998\n",
    "                amount=0\n",
    "                sell_idx.append(i)\n",
    "    if decision_d>td:\n",
    "        sumall=mon//df['adj_close_price'][i]\n",
    "        amount+=sumall\n",
    "        mon-=sumall*df['adj_close_price'][i]*1.002\n",
    "        count1+=1\n",
    "        buy_idx.append(i)\n",
    "    elif decision_d<-td:\n",
    "        mon+=amount*df['adj_close_price'][i]*0.998\n",
    "        amount=0\n",
    "        count2+=1\n",
    "        sell_idx.append(i)\n",
    "    else:\n",
    "        count3+=1\n",
    "decision_d_l.append(mon+amount*df['adj_close_price'][i])\n",
    "il.append(i)\n",
    "ret=mon+amount*df['adj_close_price'][len(df)-1]\n",
    "print ((\"TEST\",b,ret-100000)/1000)"
   ]
  },
  {
   "cell_type": "code",
   "execution_count": 168,
   "id": "5bb198f8-f8ad-44aa-bd36-cc615dc8a174",
   "metadata": {},
   "outputs": [
    {
     "data": {
      "text/plain": [
       "155    1\n",
       "156    1\n",
       "157    1\n",
       "158   -1\n",
       "159   -1\n",
       "160    1\n",
       "161    1\n",
       "162    1\n",
       "163    1\n",
       "164    1\n",
       "165   -1\n",
       "166   -1\n",
       "167   -1\n",
       "168   -1\n",
       "169   -1\n",
       "170   -1\n",
       "171   -1\n",
       "172   -1\n",
       "173   -1\n",
       "174   -1\n",
       "175   -1\n",
       "176   -1\n",
       "177   -1\n",
       "178   -1\n",
       "179   -1\n",
       "180   -1\n",
       "181   -1\n",
       "182   -1\n",
       "183   -1\n",
       "184   -1\n",
       "185   -1\n",
       "Name: sma89_signal, dtype: int64"
      ]
     },
     "execution_count": 168,
     "metadata": {},
     "output_type": "execute_result"
    }
   ],
   "source": [
    "sl1"
   ]
  },
  {
   "cell_type": "code",
   "execution_count": null,
   "id": "a2431c56-d266-4453-9884-bcab0a061eed",
   "metadata": {},
   "outputs": [],
   "source": []
  }
 ],
 "metadata": {
  "kernelspec": {
   "display_name": "Python 3 (ipykernel)",
   "language": "python",
   "name": "python3"
  },
  "language_info": {
   "codemirror_mode": {
    "name": "ipython",
    "version": 3
   },
   "file_extension": ".py",
   "mimetype": "text/x-python",
   "name": "python",
   "nbconvert_exporter": "python",
   "pygments_lexer": "ipython3",
   "version": "3.9.12"
  }
 },
 "nbformat": 4,
 "nbformat_minor": 5
}
